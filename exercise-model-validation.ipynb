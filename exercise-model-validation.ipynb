{
 "cells": [
  {
   "cell_type": "markdown",
   "id": "466e09f3",
   "metadata": {
    "papermill": {
     "duration": 0.004868,
     "end_time": "2025-08-16T05:14:32.720874",
     "exception": false,
     "start_time": "2025-08-16T05:14:32.716006",
     "status": "completed"
    },
    "tags": []
   },
   "source": [
    "**This notebook is an exercise in the [Introduction to Machine Learning](https://www.kaggle.com/learn/intro-to-machine-learning) course.  You can reference the tutorial at [this link](https://www.kaggle.com/dansbecker/model-validation).**\n",
    "\n",
    "---\n"
   ]
  },
  {
   "cell_type": "markdown",
   "id": "f791c054",
   "metadata": {
    "papermill": {
     "duration": 0.003245,
     "end_time": "2025-08-16T05:14:32.728021",
     "exception": false,
     "start_time": "2025-08-16T05:14:32.724776",
     "status": "completed"
    },
    "tags": []
   },
   "source": [
    "## Recap\n",
    "You've built a model. In this exercise you will test how good your model is.\n",
    "\n",
    "Run the cell below to set up your coding environment where the previous exercise left off."
   ]
  },
  {
   "cell_type": "code",
   "execution_count": 1,
   "id": "0ba4c4b7",
   "metadata": {
    "execution": {
     "iopub.execute_input": "2025-08-16T05:14:32.736749Z",
     "iopub.status.busy": "2025-08-16T05:14:32.736331Z",
     "iopub.status.idle": "2025-08-16T05:14:37.240591Z",
     "shell.execute_reply": "2025-08-16T05:14:37.239468Z"
    },
    "papermill": {
     "duration": 4.510807,
     "end_time": "2025-08-16T05:14:37.242533",
     "exception": false,
     "start_time": "2025-08-16T05:14:32.731726",
     "status": "completed"
    },
    "tags": []
   },
   "outputs": [
    {
     "name": "stdout",
     "output_type": "stream",
     "text": [
      "First in-sample predictions: [208500. 181500. 223500. 140000. 250000.]\n",
      "Actual target values for those homes: [208500, 181500, 223500, 140000, 250000]\n",
      "Setup Complete\n"
     ]
    }
   ],
   "source": [
    "# Code you have previously used to load data\n",
    "import pandas as pd\n",
    "from sklearn.tree import DecisionTreeRegressor\n",
    "\n",
    "# Path of the file to read\n",
    "iowa_file_path = '../input/home-data-for-ml-course/train.csv'\n",
    "\n",
    "home_data = pd.read_csv(iowa_file_path)\n",
    "y = home_data.SalePrice\n",
    "feature_columns = ['LotArea', 'YearBuilt', '1stFlrSF', '2ndFlrSF', 'FullBath', 'BedroomAbvGr', 'TotRmsAbvGrd']\n",
    "X = home_data[feature_columns]\n",
    "\n",
    "# Specify Model\n",
    "iowa_model = DecisionTreeRegressor()\n",
    "# Fit Model\n",
    "iowa_model.fit(X, y)\n",
    "\n",
    "print(\"First in-sample predictions:\", iowa_model.predict(X.head()))\n",
    "print(\"Actual target values for those homes:\", y.head().tolist())\n",
    "\n",
    "# Set up code checking\n",
    "from learntools.core import binder\n",
    "binder.bind(globals())\n",
    "from learntools.machine_learning.ex4 import *\n",
    "print(\"Setup Complete\")"
   ]
  },
  {
   "cell_type": "markdown",
   "id": "b4097a0f",
   "metadata": {
    "papermill": {
     "duration": 0.003444,
     "end_time": "2025-08-16T05:14:37.250230",
     "exception": false,
     "start_time": "2025-08-16T05:14:37.246786",
     "status": "completed"
    },
    "tags": []
   },
   "source": [
    "# Exercises\n",
    "\n",
    "## Step 1: Split Your Data\n",
    "Use the `train_test_split` function to split up your data.\n",
    "\n",
    "Give it the argument `random_state=1` so the `check` functions know what to expect when verifying your code.\n",
    "\n",
    "Recall, your features are loaded in the DataFrame **X** and your target is loaded in **y**.\n"
   ]
  },
  {
   "cell_type": "code",
   "execution_count": 2,
   "id": "468001fc",
   "metadata": {
    "execution": {
     "iopub.execute_input": "2025-08-16T05:14:37.258645Z",
     "iopub.status.busy": "2025-08-16T05:14:37.258299Z",
     "iopub.status.idle": "2025-08-16T05:14:37.278101Z",
     "shell.execute_reply": "2025-08-16T05:14:37.276108Z"
    },
    "papermill": {
     "duration": 0.026149,
     "end_time": "2025-08-16T05:14:37.280013",
     "exception": false,
     "start_time": "2025-08-16T05:14:37.253864",
     "status": "completed"
    },
    "tags": []
   },
   "outputs": [
    {
     "data": {
      "application/javascript": [
       "parent.postMessage({\"jupyterEvent\": \"custom.exercise_interaction\", \"data\": {\"outcomeType\": 1, \"valueTowardsCompletion\": 0.25, \"interactionType\": 1, \"questionType\": 2, \"questionId\": \"1_SplitData\", \"learnToolsVersion\": \"0.3.5\", \"failureMessage\": \"\", \"exceptionClass\": \"\", \"trace\": \"\"}}, \"*\")"
      ],
      "text/plain": [
       "<IPython.core.display.Javascript object>"
      ]
     },
     "metadata": {},
     "output_type": "display_data"
    },
    {
     "data": {
      "text/markdown": [
       "<span style=\"color:#33cc33\">Correct</span>"
      ],
      "text/plain": [
       "Correct"
      ]
     },
     "metadata": {},
     "output_type": "display_data"
    }
   ],
   "source": [
    "# Import the train_test_split function and uncomment\n",
    "from sklearn.model_selection import train_test_split\n",
    "\n",
    "# fill in and uncomment\n",
    "train_X, val_X, train_y, val_y = train_test_split(X, y, random_state=1) \n",
    "\n",
    "# Check your answer\n",
    "step_1.check()"
   ]
  },
  {
   "cell_type": "code",
   "execution_count": 3,
   "id": "b6ca227b",
   "metadata": {
    "execution": {
     "iopub.execute_input": "2025-08-16T05:14:37.289852Z",
     "iopub.status.busy": "2025-08-16T05:14:37.289474Z",
     "iopub.status.idle": "2025-08-16T05:14:37.297556Z",
     "shell.execute_reply": "2025-08-16T05:14:37.296577Z"
    },
    "papermill": {
     "duration": 0.015051,
     "end_time": "2025-08-16T05:14:37.299193",
     "exception": false,
     "start_time": "2025-08-16T05:14:37.284142",
     "status": "completed"
    },
    "tags": []
   },
   "outputs": [
    {
     "data": {
      "application/javascript": [
       "parent.postMessage({\"jupyterEvent\": \"custom.exercise_interaction\", \"data\": {\"interactionType\": 2, \"questionType\": 2, \"questionId\": \"1_SplitData\", \"learnToolsVersion\": \"0.3.5\", \"valueTowardsCompletion\": 0.0, \"failureMessage\": \"\", \"exceptionClass\": \"\", \"trace\": \"\", \"outcomeType\": 4}}, \"*\")"
      ],
      "text/plain": [
       "<IPython.core.display.Javascript object>"
      ]
     },
     "metadata": {},
     "output_type": "display_data"
    },
    {
     "data": {
      "text/markdown": [
       "<span style=\"color:#3366cc\">Hint:</span> The function you need to import is part of sklearn. When calling the function, the arguments are X and y. Ensure you set the random_state to 1."
      ],
      "text/plain": [
       "Hint: The function you need to import is part of sklearn. When calling the function, the arguments are X and y. Ensure you set the random_state to 1."
      ]
     },
     "metadata": {},
     "output_type": "display_data"
    }
   ],
   "source": [
    "# The lines below will show you a hint or the solution.\n",
    "step_1.hint() \n",
    "#step_1.solution()\n"
   ]
  },
  {
   "cell_type": "markdown",
   "id": "1efae7ac",
   "metadata": {
    "papermill": {
     "duration": 0.004617,
     "end_time": "2025-08-16T05:14:37.308299",
     "exception": false,
     "start_time": "2025-08-16T05:14:37.303682",
     "status": "completed"
    },
    "tags": []
   },
   "source": [
    "## Step 2: Specify and Fit the Model\n",
    "\n",
    "Create a `DecisionTreeRegressor` model and fit it to the relevant data.\n",
    "Set `random_state` to 1 again when creating the model."
   ]
  },
  {
   "cell_type": "code",
   "execution_count": 4,
   "id": "1e2c4c53",
   "metadata": {
    "execution": {
     "iopub.execute_input": "2025-08-16T05:14:37.318163Z",
     "iopub.status.busy": "2025-08-16T05:14:37.317839Z",
     "iopub.status.idle": "2025-08-16T05:14:37.344213Z",
     "shell.execute_reply": "2025-08-16T05:14:37.343103Z"
    },
    "papermill": {
     "duration": 0.033305,
     "end_time": "2025-08-16T05:14:37.345859",
     "exception": false,
     "start_time": "2025-08-16T05:14:37.312554",
     "status": "completed"
    },
    "tags": []
   },
   "outputs": [
    {
     "name": "stdout",
     "output_type": "stream",
     "text": [
      "[186500. 184000. 130000.  92000. 164500. 220000. 335000. 144152. 215000.\n",
      " 262000.]\n",
      "[186500. 184000. 130000.  92000. 164500. 220000. 335000. 144152. 215000.\n",
      " 262000.]\n"
     ]
    },
    {
     "data": {
      "application/javascript": [
       "parent.postMessage({\"jupyterEvent\": \"custom.exercise_interaction\", \"data\": {\"outcomeType\": 1, \"valueTowardsCompletion\": 0.25, \"interactionType\": 1, \"questionType\": 2, \"questionId\": \"2_FitModelWithTrain\", \"learnToolsVersion\": \"0.3.5\", \"failureMessage\": \"\", \"exceptionClass\": \"\", \"trace\": \"\"}}, \"*\")"
      ],
      "text/plain": [
       "<IPython.core.display.Javascript object>"
      ]
     },
     "metadata": {},
     "output_type": "display_data"
    },
    {
     "data": {
      "text/markdown": [
       "<span style=\"color:#33cc33\">Correct</span>"
      ],
      "text/plain": [
       "Correct"
      ]
     },
     "metadata": {},
     "output_type": "display_data"
    }
   ],
   "source": [
    "# You imported DecisionTreeRegressor in your last exercise\n",
    "# and that code has been copied to the setup code above. So, no need to\n",
    "# import it again\n",
    "\n",
    "# Specify the model\n",
    "iowa_model = DecisionTreeRegressor(random_state=1)\n",
    "\n",
    "# Fit iowa_model with the training data.\n",
    "iowa_model.fit(train_X, train_y)\n",
    "\n",
    "# Check your answer\n",
    "step_2.check()"
   ]
  },
  {
   "cell_type": "code",
   "execution_count": 5,
   "id": "3885be20",
   "metadata": {
    "execution": {
     "iopub.execute_input": "2025-08-16T05:14:37.356476Z",
     "iopub.status.busy": "2025-08-16T05:14:37.356168Z",
     "iopub.status.idle": "2025-08-16T05:14:37.360629Z",
     "shell.execute_reply": "2025-08-16T05:14:37.359499Z"
    },
    "papermill": {
     "duration": 0.011054,
     "end_time": "2025-08-16T05:14:37.362173",
     "exception": false,
     "start_time": "2025-08-16T05:14:37.351119",
     "status": "completed"
    },
    "tags": []
   },
   "outputs": [],
   "source": [
    "#step_2.hint()\n",
    "#step_2.solution()"
   ]
  },
  {
   "cell_type": "markdown",
   "id": "64949f9f",
   "metadata": {
    "papermill": {
     "duration": 0.003988,
     "end_time": "2025-08-16T05:14:37.370448",
     "exception": false,
     "start_time": "2025-08-16T05:14:37.366460",
     "status": "completed"
    },
    "tags": []
   },
   "source": [
    "## Step 3: Make Predictions with Validation data\n"
   ]
  },
  {
   "cell_type": "code",
   "execution_count": 6,
   "id": "1ff5226b",
   "metadata": {
    "execution": {
     "iopub.execute_input": "2025-08-16T05:14:37.379960Z",
     "iopub.status.busy": "2025-08-16T05:14:37.379665Z",
     "iopub.status.idle": "2025-08-16T05:14:37.391361Z",
     "shell.execute_reply": "2025-08-16T05:14:37.390180Z"
    },
    "papermill": {
     "duration": 0.018485,
     "end_time": "2025-08-16T05:14:37.393115",
     "exception": false,
     "start_time": "2025-08-16T05:14:37.374630",
     "status": "completed"
    },
    "tags": []
   },
   "outputs": [
    {
     "data": {
      "application/javascript": [
       "parent.postMessage({\"jupyterEvent\": \"custom.exercise_interaction\", \"data\": {\"outcomeType\": 1, \"valueTowardsCompletion\": 0.25, \"interactionType\": 1, \"questionType\": 2, \"questionId\": \"3_ValPreds\", \"learnToolsVersion\": \"0.3.5\", \"failureMessage\": \"\", \"exceptionClass\": \"\", \"trace\": \"\"}}, \"*\")"
      ],
      "text/plain": [
       "<IPython.core.display.Javascript object>"
      ]
     },
     "metadata": {},
     "output_type": "display_data"
    },
    {
     "data": {
      "text/markdown": [
       "<span style=\"color:#33cc33\">Correct</span>"
      ],
      "text/plain": [
       "Correct"
      ]
     },
     "metadata": {},
     "output_type": "display_data"
    }
   ],
   "source": [
    "# Predict with all validation observations\n",
    "val_predictions = iowa_model.predict(val_X)\n",
    "\n",
    "# Check your answer\n",
    "step_3.check()"
   ]
  },
  {
   "cell_type": "code",
   "execution_count": 7,
   "id": "9a6ce0b8",
   "metadata": {
    "execution": {
     "iopub.execute_input": "2025-08-16T05:14:37.403669Z",
     "iopub.status.busy": "2025-08-16T05:14:37.403343Z",
     "iopub.status.idle": "2025-08-16T05:14:37.414951Z",
     "shell.execute_reply": "2025-08-16T05:14:37.413869Z"
    },
    "papermill": {
     "duration": 0.019203,
     "end_time": "2025-08-16T05:14:37.416876",
     "exception": false,
     "start_time": "2025-08-16T05:14:37.397673",
     "status": "completed"
    },
    "tags": []
   },
   "outputs": [
    {
     "data": {
      "application/javascript": [
       "parent.postMessage({\"jupyterEvent\": \"custom.exercise_interaction\", \"data\": {\"interactionType\": 2, \"questionType\": 2, \"questionId\": \"3_ValPreds\", \"learnToolsVersion\": \"0.3.5\", \"valueTowardsCompletion\": 0.0, \"failureMessage\": \"\", \"exceptionClass\": \"\", \"trace\": \"\", \"outcomeType\": 4}}, \"*\")"
      ],
      "text/plain": [
       "<IPython.core.display.Javascript object>"
      ]
     },
     "metadata": {},
     "output_type": "display_data"
    },
    {
     "data": {
      "text/markdown": [
       "<span style=\"color:#3366cc\">Hint:</span> Run predict on the right validation data object."
      ],
      "text/plain": [
       "Hint: Run predict on the right validation data object."
      ]
     },
     "metadata": {},
     "output_type": "display_data"
    },
    {
     "data": {
      "application/javascript": [
       "parent.postMessage({\"jupyterEvent\": \"custom.exercise_interaction\", \"data\": {\"interactionType\": 3, \"questionType\": 2, \"questionId\": \"3_ValPreds\", \"learnToolsVersion\": \"0.3.5\", \"valueTowardsCompletion\": 0.0, \"failureMessage\": \"\", \"exceptionClass\": \"\", \"trace\": \"\", \"outcomeType\": 4}}, \"*\")"
      ],
      "text/plain": [
       "<IPython.core.display.Javascript object>"
      ]
     },
     "metadata": {},
     "output_type": "display_data"
    },
    {
     "data": {
      "text/markdown": [
       "<span style=\"color:#33cc99\">Solution:</span> \n",
       "```python\n",
       "val_predictions = iowa_model.predict(val_X)\n",
       "```"
      ],
      "text/plain": [
       "Solution: \n",
       "```python\n",
       "val_predictions = iowa_model.predict(val_X)\n",
       "```"
      ]
     },
     "metadata": {},
     "output_type": "display_data"
    }
   ],
   "source": [
    "step_3.hint()\n",
    "step_3.solution()"
   ]
  },
  {
   "cell_type": "markdown",
   "id": "f554a960",
   "metadata": {
    "papermill": {
     "duration": 0.004493,
     "end_time": "2025-08-16T05:14:37.426682",
     "exception": false,
     "start_time": "2025-08-16T05:14:37.422189",
     "status": "completed"
    },
    "tags": []
   },
   "source": [
    "Inspect your predictions and actual values from validation data."
   ]
  },
  {
   "cell_type": "code",
   "execution_count": 8,
   "id": "49954b3c",
   "metadata": {
    "execution": {
     "iopub.execute_input": "2025-08-16T05:14:37.437982Z",
     "iopub.status.busy": "2025-08-16T05:14:37.437641Z",
     "iopub.status.idle": "2025-08-16T05:14:37.444624Z",
     "shell.execute_reply": "2025-08-16T05:14:37.442997Z"
    },
    "papermill": {
     "duration": 0.014873,
     "end_time": "2025-08-16T05:14:37.446493",
     "exception": false,
     "start_time": "2025-08-16T05:14:37.431620",
     "status": "completed"
    },
    "tags": []
   },
   "outputs": [
    {
     "name": "stdout",
     "output_type": "stream",
     "text": [
      "[186500. 184000. 130000.  92000. 164500.]\n",
      "Actual Price [231500 179500 122000  84500 142000]\n"
     ]
    }
   ],
   "source": [
    "# print the top few validation predictions\n",
    "print(val_predictions[:5])\n",
    "# print the top few actual prices from validation data\n",
    "print(\"Actual Price\", val_y[:5].values)"
   ]
  },
  {
   "cell_type": "code",
   "execution_count": 9,
   "id": "f0a951dc",
   "metadata": {
    "execution": {
     "iopub.execute_input": "2025-08-16T05:14:37.459138Z",
     "iopub.status.busy": "2025-08-16T05:14:37.458804Z",
     "iopub.status.idle": "2025-08-16T05:14:37.471191Z",
     "shell.execute_reply": "2025-08-16T05:14:37.469968Z"
    },
    "papermill": {
     "duration": 0.02029,
     "end_time": "2025-08-16T05:14:37.472869",
     "exception": false,
     "start_time": "2025-08-16T05:14:37.452579",
     "status": "completed"
    },
    "tags": []
   },
   "outputs": [
    {
     "name": "stdout",
     "output_type": "stream",
     "text": [
      "   Predicted  Actual\n",
      "0   186500.0  231500\n",
      "1   184000.0  179500\n",
      "2   130000.0  122000\n",
      "3    92000.0   84500\n",
      "4   164500.0  142000\n"
     ]
    }
   ],
   "source": [
    "import pandas as pd\n",
    "comparison_df=pd.DataFrame({\n",
    "    \"Predicted\": val_predictions,\n",
    "    \"Actual\": val_y.values\n",
    "})\n",
    "print(comparison_df.head())"
   ]
  },
  {
   "cell_type": "markdown",
   "id": "38adb657",
   "metadata": {
    "papermill": {
     "duration": 0.004574,
     "end_time": "2025-08-16T05:14:37.482759",
     "exception": false,
     "start_time": "2025-08-16T05:14:37.478185",
     "status": "completed"
    },
    "tags": []
   },
   "source": [
    "What do you notice that is different from what you saw with in-sample predictions (which are printed after the top code cell in this page).\n",
    "\n",
    "Do you remember why validation predictions differ from in-sample (or training) predictions? This is an important idea from the last lesson.\n",
    "\n",
    "## Step 4: Calculate the Mean Absolute Error in Validation Data\n"
   ]
  },
  {
   "cell_type": "code",
   "execution_count": 10,
   "id": "c04b7c46",
   "metadata": {
    "execution": {
     "iopub.execute_input": "2025-08-16T05:14:37.495816Z",
     "iopub.status.busy": "2025-08-16T05:14:37.494504Z",
     "iopub.status.idle": "2025-08-16T05:14:37.504675Z",
     "shell.execute_reply": "2025-08-16T05:14:37.503653Z"
    },
    "papermill": {
     "duration": 0.017913,
     "end_time": "2025-08-16T05:14:37.506120",
     "exception": false,
     "start_time": "2025-08-16T05:14:37.488207",
     "status": "completed"
    },
    "tags": []
   },
   "outputs": [
    {
     "name": "stdout",
     "output_type": "stream",
     "text": [
      "29652.931506849316\n"
     ]
    },
    {
     "data": {
      "application/javascript": [
       "parent.postMessage({\"jupyterEvent\": \"custom.exercise_interaction\", \"data\": {\"outcomeType\": 1, \"valueTowardsCompletion\": 0.25, \"interactionType\": 1, \"questionType\": 1, \"questionId\": \"4_MAE\", \"learnToolsVersion\": \"0.3.5\", \"failureMessage\": \"\", \"exceptionClass\": \"\", \"trace\": \"\"}}, \"*\")"
      ],
      "text/plain": [
       "<IPython.core.display.Javascript object>"
      ]
     },
     "metadata": {},
     "output_type": "display_data"
    },
    {
     "data": {
      "text/markdown": [
       "<span style=\"color:#33cc33\">Correct</span>"
      ],
      "text/plain": [
       "Correct"
      ]
     },
     "metadata": {},
     "output_type": "display_data"
    }
   ],
   "source": [
    "from sklearn.metrics import mean_absolute_error\n",
    "val_mae = mean_absolute_error(val_y, val_predictions)\n",
    "\n",
    "# uncomment following line to see the validation_mae\n",
    "print(val_mae)\n",
    "\n",
    "# Check your answer\n",
    "step_4.check()"
   ]
  },
  {
   "cell_type": "code",
   "execution_count": 11,
   "id": "17d5aa25",
   "metadata": {
    "execution": {
     "iopub.execute_input": "2025-08-16T05:14:37.517421Z",
     "iopub.status.busy": "2025-08-16T05:14:37.517114Z",
     "iopub.status.idle": "2025-08-16T05:14:37.526459Z",
     "shell.execute_reply": "2025-08-16T05:14:37.525788Z"
    },
    "papermill": {
     "duration": 0.016514,
     "end_time": "2025-08-16T05:14:37.527775",
     "exception": false,
     "start_time": "2025-08-16T05:14:37.511261",
     "status": "completed"
    },
    "tags": []
   },
   "outputs": [
    {
     "data": {
      "application/javascript": [
       "parent.postMessage({\"jupyterEvent\": \"custom.exercise_interaction\", \"data\": {\"interactionType\": 2, \"questionType\": 1, \"questionId\": \"4_MAE\", \"learnToolsVersion\": \"0.3.5\", \"valueTowardsCompletion\": 0.0, \"failureMessage\": \"\", \"exceptionClass\": \"\", \"trace\": \"\", \"outcomeType\": 4}}, \"*\")"
      ],
      "text/plain": [
       "<IPython.core.display.Javascript object>"
      ]
     },
     "metadata": {},
     "output_type": "display_data"
    },
    {
     "data": {
      "text/markdown": [
       "<span style=\"color:#3366cc\">Hint:</span> The order of arguments to mean_absolute_error doesn't matter. Make sure you fit to only the training data in step 2."
      ],
      "text/plain": [
       "Hint: The order of arguments to mean_absolute_error doesn't matter. Make sure you fit to only the training data in step 2."
      ]
     },
     "metadata": {},
     "output_type": "display_data"
    },
    {
     "data": {
      "application/javascript": [
       "parent.postMessage({\"jupyterEvent\": \"custom.exercise_interaction\", \"data\": {\"interactionType\": 3, \"questionType\": 1, \"questionId\": \"4_MAE\", \"learnToolsVersion\": \"0.3.5\", \"valueTowardsCompletion\": 0.0, \"failureMessage\": \"\", \"exceptionClass\": \"\", \"trace\": \"\", \"outcomeType\": 4}}, \"*\")"
      ],
      "text/plain": [
       "<IPython.core.display.Javascript object>"
      ]
     },
     "metadata": {},
     "output_type": "display_data"
    },
    {
     "data": {
      "text/markdown": [
       "<span style=\"color:#33cc99\">Solution:</span> \n",
       "```python\n",
       "val_mae = mean_absolute_error(val_y, val_predictions)\n",
       "```"
      ],
      "text/plain": [
       "Solution: \n",
       "```python\n",
       "val_mae = mean_absolute_error(val_y, val_predictions)\n",
       "```"
      ]
     },
     "metadata": {},
     "output_type": "display_data"
    }
   ],
   "source": [
    "step_4.hint()\n",
    "step_4.solution()"
   ]
  },
  {
   "cell_type": "markdown",
   "id": "c6a503e9",
   "metadata": {
    "papermill": {
     "duration": 0.004871,
     "end_time": "2025-08-16T05:14:37.538624",
     "exception": false,
     "start_time": "2025-08-16T05:14:37.533753",
     "status": "completed"
    },
    "tags": []
   },
   "source": [
    "Is that MAE good?  There isn't a general rule for what values are good that applies across applications. But you'll see how to use (and improve) this number in the next step.\n",
    "\n",
    "# Keep Going\n",
    "\n",
    "You are ready for **[Underfitting and Overfitting](https://www.kaggle.com/dansbecker/underfitting-and-overfitting).**\n"
   ]
  },
  {
   "cell_type": "markdown",
   "id": "a47707e9",
   "metadata": {
    "papermill": {
     "duration": 0.005262,
     "end_time": "2025-08-16T05:14:37.549009",
     "exception": false,
     "start_time": "2025-08-16T05:14:37.543747",
     "status": "completed"
    },
    "tags": []
   },
   "source": [
    "---\n",
    "\n",
    "\n",
    "\n",
    "\n",
    "*Have questions or comments? Visit the [course discussion forum](https://www.kaggle.com/learn/intro-to-machine-learning/discussion) to chat with other learners.*"
   ]
  }
 ],
 "metadata": {
  "kaggle": {
   "accelerator": "none",
   "dataSources": [
    {
     "databundleVersionId": 111096,
     "sourceId": 10211,
     "sourceType": "competition"
    },
    {
     "datasetId": 11167,
     "sourceId": 15520,
     "sourceType": "datasetVersion"
    },
    {
     "datasetId": 2709,
     "sourceId": 38454,
     "sourceType": "datasetVersion"
    }
   ],
   "isGpuEnabled": false,
   "isInternetEnabled": false,
   "language": "python",
   "sourceType": "notebook"
  },
  "kernelspec": {
   "display_name": "Python 3",
   "language": "python",
   "name": "python3"
  },
  "language_info": {
   "codemirror_mode": {
    "name": "ipython",
    "version": 3
   },
   "file_extension": ".py",
   "mimetype": "text/x-python",
   "name": "python",
   "nbconvert_exporter": "python",
   "pygments_lexer": "ipython3",
   "version": "3.11.13"
  },
  "papermill": {
   "default_parameters": {},
   "duration": 11.161557,
   "end_time": "2025-08-16T05:14:38.275673",
   "environment_variables": {},
   "exception": null,
   "input_path": "__notebook__.ipynb",
   "output_path": "__notebook__.ipynb",
   "parameters": {},
   "start_time": "2025-08-16T05:14:27.114116",
   "version": "2.6.0"
  }
 },
 "nbformat": 4,
 "nbformat_minor": 5
}
