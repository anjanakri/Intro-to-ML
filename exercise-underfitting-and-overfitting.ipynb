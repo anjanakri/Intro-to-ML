{
 "cells": [
  {
   "cell_type": "markdown",
   "id": "d641dab6",
   "metadata": {
    "papermill": {
     "duration": 0.002948,
     "end_time": "2025-08-16T05:19:36.841316",
     "exception": false,
     "start_time": "2025-08-16T05:19:36.838368",
     "status": "completed"
    },
    "tags": []
   },
   "source": [
    "**This notebook is an exercise in the [Introduction to Machine Learning](https://www.kaggle.com/learn/intro-to-machine-learning) course.  You can reference the tutorial at [this link](https://www.kaggle.com/dansbecker/underfitting-and-overfitting).**\n",
    "\n",
    "---\n"
   ]
  },
  {
   "cell_type": "markdown",
   "id": "5ece280e",
   "metadata": {
    "papermill": {
     "duration": 0.002109,
     "end_time": "2025-08-16T05:19:36.846357",
     "exception": false,
     "start_time": "2025-08-16T05:19:36.844248",
     "status": "completed"
    },
    "tags": []
   },
   "source": [
    "## Recap\n",
    "You've built your first model, and now it's time to optimize the size of the tree to make better predictions. Run this cell to set up your coding environment where the previous step left off."
   ]
  },
  {
   "cell_type": "code",
   "execution_count": 1,
   "id": "998a6910",
   "metadata": {
    "execution": {
     "iopub.execute_input": "2025-08-16T05:19:36.852372Z",
     "iopub.status.busy": "2025-08-16T05:19:36.852071Z",
     "iopub.status.idle": "2025-08-16T05:19:40.683438Z",
     "shell.execute_reply": "2025-08-16T05:19:40.682501Z"
    },
    "papermill": {
     "duration": 3.83623,
     "end_time": "2025-08-16T05:19:40.684929",
     "exception": false,
     "start_time": "2025-08-16T05:19:36.848699",
     "status": "completed"
    },
    "tags": []
   },
   "outputs": [
    {
     "name": "stdout",
     "output_type": "stream",
     "text": [
      "Validation MAE: 29,653\n",
      "\n",
      "Setup complete\n"
     ]
    }
   ],
   "source": [
    "# Code you have previously used to load data\n",
    "import pandas as pd\n",
    "from sklearn.metrics import mean_absolute_error\n",
    "from sklearn.model_selection import train_test_split\n",
    "from sklearn.tree import DecisionTreeRegressor\n",
    "\n",
    "\n",
    "# Path of the file to read\n",
    "iowa_file_path = '../input/home-data-for-ml-course/train.csv'\n",
    "\n",
    "home_data = pd.read_csv(iowa_file_path)\n",
    "# Create target object and call it y\n",
    "y = home_data.SalePrice\n",
    "# Create X\n",
    "features = ['LotArea', 'YearBuilt', '1stFlrSF', '2ndFlrSF', 'FullBath', 'BedroomAbvGr', 'TotRmsAbvGrd']\n",
    "X = home_data[features]\n",
    "\n",
    "# Split into validation and training data\n",
    "train_X, val_X, train_y, val_y = train_test_split(X, y, random_state=1)\n",
    "\n",
    "# Specify Model\n",
    "iowa_model = DecisionTreeRegressor(random_state=1)\n",
    "# Fit Model\n",
    "iowa_model.fit(train_X, train_y)\n",
    "\n",
    "# Make validation predictions and calculate mean absolute error\n",
    "val_predictions = iowa_model.predict(val_X)\n",
    "val_mae = mean_absolute_error(val_predictions, val_y)\n",
    "print(\"Validation MAE: {:,.0f}\".format(val_mae))\n",
    "\n",
    "# Set up code checking\n",
    "from learntools.core import binder\n",
    "binder.bind(globals())\n",
    "from learntools.machine_learning.ex5 import *\n",
    "print(\"\\nSetup complete\")"
   ]
  },
  {
   "cell_type": "markdown",
   "id": "2ac9dbb9",
   "metadata": {
    "papermill": {
     "duration": 0.002368,
     "end_time": "2025-08-16T05:19:40.690131",
     "exception": false,
     "start_time": "2025-08-16T05:19:40.687763",
     "status": "completed"
    },
    "tags": []
   },
   "source": [
    "# Exercises\n",
    "You could write the function `get_mae` yourself. For now, we'll supply it. This is the same function you read about in the previous lesson. Just run the cell below."
   ]
  },
  {
   "cell_type": "code",
   "execution_count": 2,
   "id": "6b9b7cec",
   "metadata": {
    "execution": {
     "iopub.execute_input": "2025-08-16T05:19:40.696206Z",
     "iopub.status.busy": "2025-08-16T05:19:40.695910Z",
     "iopub.status.idle": "2025-08-16T05:19:40.700479Z",
     "shell.execute_reply": "2025-08-16T05:19:40.699791Z"
    },
    "papermill": {
     "duration": 0.009118,
     "end_time": "2025-08-16T05:19:40.701718",
     "exception": false,
     "start_time": "2025-08-16T05:19:40.692600",
     "status": "completed"
    },
    "tags": []
   },
   "outputs": [],
   "source": [
    "def get_mae(max_leaf_nodes, train_X, val_X, train_y, val_y):\n",
    "    model = DecisionTreeRegressor(max_leaf_nodes=max_leaf_nodes, random_state=0)\n",
    "    model.fit(train_X, train_y)\n",
    "    preds_val = model.predict(val_X)\n",
    "    mae = mean_absolute_error(val_y, preds_val)\n",
    "    return(mae)"
   ]
  },
  {
   "cell_type": "markdown",
   "id": "140cc40e",
   "metadata": {
    "papermill": {
     "duration": 0.002279,
     "end_time": "2025-08-16T05:19:40.706418",
     "exception": false,
     "start_time": "2025-08-16T05:19:40.704139",
     "status": "completed"
    },
    "tags": []
   },
   "source": [
    "## Step 1: Compare Different Tree Sizes\n",
    "Write a loop that tries the following values for *max_leaf_nodes* from a set of possible values.\n",
    "\n",
    "Call the *get_mae* function on each value of max_leaf_nodes. Store the output in some way that allows you to select the value of `max_leaf_nodes` that gives the most accurate model on your data."
   ]
  },
  {
   "cell_type": "code",
   "execution_count": 3,
   "id": "61939944",
   "metadata": {
    "execution": {
     "iopub.execute_input": "2025-08-16T05:19:40.712154Z",
     "iopub.status.busy": "2025-08-16T05:19:40.711894Z",
     "iopub.status.idle": "2025-08-16T05:19:40.756017Z",
     "shell.execute_reply": "2025-08-16T05:19:40.755146Z"
    },
    "papermill": {
     "duration": 0.04852,
     "end_time": "2025-08-16T05:19:40.757289",
     "exception": false,
     "start_time": "2025-08-16T05:19:40.708769",
     "status": "completed"
    },
    "tags": []
   },
   "outputs": [
    {
     "name": "stdout",
     "output_type": "stream",
     "text": [
      "Nodes: 5 \n",
      "MAE: 35044.51299744237\n",
      "Nodes: 25 \n",
      "MAE: 29016.41319191076\n",
      "Nodes: 50 \n",
      "MAE: 27405.930473214907\n",
      "Nodes: 100 \n",
      "MAE: 27282.50803885739\n",
      "Nodes: 250 \n",
      "MAE: 27893.822225701646\n",
      "Nodes: 500 \n",
      "MAE: 29454.18598068598\n",
      "best_tree_size:  100\n"
     ]
    },
    {
     "data": {
      "application/javascript": [
       "parent.postMessage({\"jupyterEvent\": \"custom.exercise_interaction\", \"data\": {\"outcomeType\": 1, \"valueTowardsCompletion\": 0.5, \"interactionType\": 1, \"questionType\": 1, \"questionId\": \"1_BestTreeSize\", \"learnToolsVersion\": \"0.3.5\", \"failureMessage\": \"\", \"exceptionClass\": \"\", \"trace\": \"\"}}, \"*\")"
      ],
      "text/plain": [
       "<IPython.core.display.Javascript object>"
      ]
     },
     "metadata": {},
     "output_type": "display_data"
    },
    {
     "data": {
      "text/markdown": [
       "<span style=\"color:#33cc33\">Correct</span>"
      ],
      "text/plain": [
       "Correct"
      ]
     },
     "metadata": {},
     "output_type": "display_data"
    }
   ],
   "source": [
    "candidate_max_leaf_nodes = [5, 25, 50, 100, 250, 500]\n",
    "mae_dict={}\n",
    "# Write loop to find the ideal tree size from candidate_max_leaf_nodes\n",
    "for max_leaf_nodes in candidate_max_leaf_nodes:\n",
    "    mymae = get_mae(max_leaf_nodes, train_X, val_X, train_y, val_y)\n",
    "    mae_dict[max_leaf_nodes]=mymae\n",
    "    print(\"Nodes:\", max_leaf_nodes, \"\\nMAE:\", mymae)\n",
    "\n",
    "# Store the best value of max_leaf_nodes (it will be either 5, 25, 50, 100, 250 or 500)\n",
    "best_tree_size =min(mae_dict, key=mae_dict.get)\n",
    "print(\"best_tree_size: \", best_tree_size)\n",
    "# Check your answer\n",
    "step_1.check()"
   ]
  },
  {
   "cell_type": "code",
   "execution_count": 4,
   "id": "adf65b55",
   "metadata": {
    "execution": {
     "iopub.execute_input": "2025-08-16T05:19:40.763998Z",
     "iopub.status.busy": "2025-08-16T05:19:40.763700Z",
     "iopub.status.idle": "2025-08-16T05:19:40.771066Z",
     "shell.execute_reply": "2025-08-16T05:19:40.770196Z"
    },
    "papermill": {
     "duration": 0.012157,
     "end_time": "2025-08-16T05:19:40.772367",
     "exception": false,
     "start_time": "2025-08-16T05:19:40.760210",
     "status": "completed"
    },
    "tags": []
   },
   "outputs": [
    {
     "data": {
      "application/javascript": [
       "parent.postMessage({\"jupyterEvent\": \"custom.exercise_interaction\", \"data\": {\"interactionType\": 2, \"questionType\": 1, \"questionId\": \"1_BestTreeSize\", \"learnToolsVersion\": \"0.3.5\", \"valueTowardsCompletion\": 0.0, \"failureMessage\": \"\", \"exceptionClass\": \"\", \"trace\": \"\", \"outcomeType\": 4}}, \"*\")"
      ],
      "text/plain": [
       "<IPython.core.display.Javascript object>"
      ]
     },
     "metadata": {},
     "output_type": "display_data"
    },
    {
     "data": {
      "text/markdown": [
       "<span style=\"color:#3366cc\">Hint:</span> You will call get_mae in the loop. You'll need to map the names of your data structure to the names in get_mae"
      ],
      "text/plain": [
       "Hint: You will call get_mae in the loop. You'll need to map the names of your data structure to the names in get_mae"
      ]
     },
     "metadata": {},
     "output_type": "display_data"
    }
   ],
   "source": [
    "#The lines below will show you a hint or the solution.\n",
    "step_1.hint()\n",
    "#step_1.solution()"
   ]
  },
  {
   "cell_type": "markdown",
   "id": "d6d90216",
   "metadata": {
    "papermill": {
     "duration": 0.002668,
     "end_time": "2025-08-16T05:19:40.778054",
     "exception": false,
     "start_time": "2025-08-16T05:19:40.775386",
     "status": "completed"
    },
    "tags": []
   },
   "source": [
    "## Step 2: Fit Model Using All Data\n",
    "You know the best tree size. If you were going to deploy this model in practice, you would make it even more accurate by using all of the data and keeping that tree size.  That is, you don't need to hold out the validation data now that you've made all your modeling decisions."
   ]
  },
  {
   "cell_type": "code",
   "execution_count": 5,
   "id": "f2ce6e51",
   "metadata": {
    "execution": {
     "iopub.execute_input": "2025-08-16T05:19:40.784722Z",
     "iopub.status.busy": "2025-08-16T05:19:40.784425Z",
     "iopub.status.idle": "2025-08-16T05:19:40.798546Z",
     "shell.execute_reply": "2025-08-16T05:19:40.797703Z"
    },
    "papermill": {
     "duration": 0.018983,
     "end_time": "2025-08-16T05:19:40.799975",
     "exception": false,
     "start_time": "2025-08-16T05:19:40.780992",
     "status": "completed"
    },
    "tags": []
   },
   "outputs": [
    {
     "data": {
      "application/javascript": [
       "parent.postMessage({\"jupyterEvent\": \"custom.exercise_interaction\", \"data\": {\"outcomeType\": 1, \"valueTowardsCompletion\": 0.5, \"interactionType\": 1, \"questionType\": 2, \"questionId\": \"2_FitModelWithAllData\", \"learnToolsVersion\": \"0.3.5\", \"failureMessage\": \"\", \"exceptionClass\": \"\", \"trace\": \"\"}}, \"*\")"
      ],
      "text/plain": [
       "<IPython.core.display.Javascript object>"
      ]
     },
     "metadata": {},
     "output_type": "display_data"
    },
    {
     "data": {
      "text/markdown": [
       "<span style=\"color:#33cc33\">Correct</span>"
      ],
      "text/plain": [
       "Correct"
      ]
     },
     "metadata": {},
     "output_type": "display_data"
    }
   ],
   "source": [
    "# Fill in argument to make optimal size and uncomment\n",
    "final_model = DecisionTreeRegressor(max_leaf_nodes=best_tree_size, random_state=0)\n",
    "\n",
    "# fit the final model and uncomment the next two lines\n",
    "final_model.fit(X, y)\n",
    "\n",
    "# Check your answer\n",
    "step_2.check()"
   ]
  },
  {
   "cell_type": "code",
   "execution_count": 6,
   "id": "e974eef6",
   "metadata": {
    "execution": {
     "iopub.execute_input": "2025-08-16T05:19:40.807577Z",
     "iopub.status.busy": "2025-08-16T05:19:40.807325Z",
     "iopub.status.idle": "2025-08-16T05:19:40.810610Z",
     "shell.execute_reply": "2025-08-16T05:19:40.810029Z"
    },
    "papermill": {
     "duration": 0.008153,
     "end_time": "2025-08-16T05:19:40.811819",
     "exception": false,
     "start_time": "2025-08-16T05:19:40.803666",
     "status": "completed"
    },
    "tags": []
   },
   "outputs": [],
   "source": [
    "#step_2.hint()\n",
    "#step_2.solution()"
   ]
  },
  {
   "cell_type": "markdown",
   "id": "d3496e33",
   "metadata": {
    "papermill": {
     "duration": 0.002816,
     "end_time": "2025-08-16T05:19:40.817826",
     "exception": false,
     "start_time": "2025-08-16T05:19:40.815010",
     "status": "completed"
    },
    "tags": []
   },
   "source": [
    "You've tuned this model and improved your results. But we are still using Decision Tree models, which are not very sophisticated by modern machine learning standards. In the next step you will learn to use Random Forests to improve your models even more.\n",
    "\n",
    "# Keep Going\n",
    "\n",
    "You are ready for **[Random Forests](https://www.kaggle.com/dansbecker/random-forests).**\n"
   ]
  },
  {
   "cell_type": "markdown",
   "id": "01304f83",
   "metadata": {
    "papermill": {
     "duration": 0.002743,
     "end_time": "2025-08-16T05:19:40.824284",
     "exception": false,
     "start_time": "2025-08-16T05:19:40.821541",
     "status": "completed"
    },
    "tags": []
   },
   "source": [
    "---\n",
    "\n",
    "\n",
    "\n",
    "\n",
    "*Have questions or comments? Visit the [course discussion forum](https://www.kaggle.com/learn/intro-to-machine-learning/discussion) to chat with other learners.*"
   ]
  }
 ],
 "metadata": {
  "kaggle": {
   "accelerator": "none",
   "dataSources": [
    {
     "databundleVersionId": 111096,
     "sourceId": 10211,
     "sourceType": "competition"
    },
    {
     "datasetId": 11167,
     "sourceId": 15520,
     "sourceType": "datasetVersion"
    },
    {
     "datasetId": 2709,
     "sourceId": 38454,
     "sourceType": "datasetVersion"
    }
   ],
   "isGpuEnabled": false,
   "isInternetEnabled": false,
   "language": "python",
   "sourceType": "notebook"
  },
  "kernelspec": {
   "display_name": "Python 3",
   "language": "python",
   "name": "python3"
  },
  "language_info": {
   "codemirror_mode": {
    "name": "ipython",
    "version": 3
   },
   "file_extension": ".py",
   "mimetype": "text/x-python",
   "name": "python",
   "nbconvert_exporter": "python",
   "pygments_lexer": "ipython3",
   "version": "3.11.13"
  },
  "papermill": {
   "default_parameters": {},
   "duration": 9.266711,
   "end_time": "2025-08-16T05:19:41.444761",
   "environment_variables": {},
   "exception": null,
   "input_path": "__notebook__.ipynb",
   "output_path": "__notebook__.ipynb",
   "parameters": {},
   "start_time": "2025-08-16T05:19:32.178050",
   "version": "2.6.0"
  }
 },
 "nbformat": 4,
 "nbformat_minor": 5
}
